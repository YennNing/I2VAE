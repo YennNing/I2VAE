{
 "cells": [
  {
   "cell_type": "markdown",
   "id": "3d8f9bbf-0d8c-4d3a-8de4-07627e5a1117",
   "metadata": {
    "libroCellType": "text"
   },
   "source": [
    "<p data-lake-id=\"uc36192ec\" id=\"uc36192ec\"><br></p>"
   ]
  },
  {
   "cell_type": "code",
   "execution_count": null,
   "id": "5fcd268c-ce7d-4955-b2ce-82beb1deb5bd",
   "metadata": {
    "execution": {
     "shell.execute_reply.end": "2023-10-20T02:52:59.685921Z",
     "shell.execute_reply.started": "2023-10-20T02:52:59.601199Z",
     "to_execute": "2023-10-20T02:52:59.483Z"
    },
    "libroFormatter": "formatter-string"
   },
   "outputs": [],
   "source": [
    "import os\n",
    "import random\n",
    "\n",
    "\n",
    "model_name = \"\"\n",
    "txt1_dir = \"./amazon_results/{}/log_all.txt\".format(model_name)\n",
    "txt3_dir = \"./amazon_results/{}/log_all.txt\".format(model_name)\n",
    "\n",
    "with open(txt1_dir,'r',encoding='utf-8')as file:\n",
    "    lines = file.readlines()\n",
    "    ndcg_10_v_d1_o10,ndcg_10_b_d1_o10 = float(lines[-15].replace('\\n','').replace(',','').split(':')[-1].split('/')[0]),float(lines[-15].replace('\\n','').replace(',','').split(':')[-1].split('/')[1])\n",
    "    hit_10_v_d1_o10,hit_10_b_d1_o10 = float(lines[-17].replace('\\n','').replace(',','').split(':')[-1].split('/')[0]),float(lines[-17].replace('\\n','').replace(',','').split(':')[-1].split('/')[1])\n",
    "    mrr_v_d1_o10,mrr_b_d1_o10 = float(lines[-14].replace('\\n','').replace(',','').split(':')[-1].split('/')[0]),float(lines[-14].replace('\\n','').replace(',','').split(':')[-1].split('/')[1])\n",
    "    ndcg_10_v_d2_o10,ndcg_10_b_d2_o10 = float(lines[-9].replace('\\n','').replace(',','').split(':')[-1].split('/')[0]),float(lines[-9].replace('\\n','').replace(',','').split(':')[-1].split('/')[1])\n",
    "    hit_10_v_d2_o10,hit_10_b_d2_o10 = float(lines[-11].replace('\\n','').replace(',','').split(':')[-1].split('/')[0]),float(lines[-11].replace('\\n','').replace(',','').split(':')[-1].split('/')[1]) \n",
    "    mrr_v_d2_o10,mrr_b_d2_o10 = float(lines[-8].replace('\\n','').replace(',','').split(':')[-1].split('/')[0]),float(lines[-8].replace('\\n','').replace(',','').split(':')[-1].split('/')[1])\n",
    "    file.close()\n",
    "\n",
    "with open(txt3_dir,'r',encoding='utf-8') as file:\n",
    "    lines = file.readlines()\n",
    "    hit_10_v_d1_o90,hit_10_b_d1_o90 = float(lines[-17].replace('\\n','').replace(',','').split(':')[-1].split('/')[0]),float(lines[-17].replace('\\n','').replace(',','').split(':')[-1].split('/')[1])\n",
    "    ndcg_10_v_d1_o90,ndcg_10_b_d1_o90 = float(lines[-15].replace('\\n','').replace(',','').split(':')[-1].split('/')[0]),float(lines[-15].replace('\\n','').replace(',','').split(':')[-1].split('/')[1])\n",
    "    mrr_v_d1_o90,mrr_b_d1_o90 = float(lines[-14].replace('\\n','').replace(',','').split(':')[-1].split('/')[0]),float(lines[-14].replace('\\n','').replace(',','').split(':')[-1].split('/')[1]) \n",
    "    hit_10_v_d2_o90,hit_10_b_d2_o90 = float(lines[-11].replace('\\n','').replace(',','').split(':')[-1].split('/')[0]),float(lines[-11].replace('\\n','').replace(',','').split(':')[-1].split('/')[1])\n",
    "    ndcg_10_v_d2_o90,ndcg_10_b_d2_o90 = float(lines[-9].replace('\\n','').replace(',','').split(':')[-1].split('/')[0]),float(lines[-9].replace('\\n','').replace(',','').split(':')[-1].split('/')[1])\n",
    "    mrr_v_d2_o90,mrr_b_d2_o90 = float(lines[-8].replace('\\n','').replace(',','').split(':')[-1].split('/')[0]),float(lines[-8].replace('\\n','').replace(',','').split(':')[-1].split('/')[1]) \n",
    "    file.close()\n",
    "\n",
    "\n",
    "print(r\"& \\phantom{0}\"+\"{}$\\\\pm${}\".format(str(round(ndcg_10_v_d1_o10*100,2)),str(round(ndcg_10_b_d1_o10*100,2))))\n",
    "print(r\"& \\phantom{0}\"+\"{}$\\\\pm${}\".format(str(round(hit_10_v_d1_o10*100,2)),str(round(hit_10_b_d1_o10*100,2))))\n",
    "print(r\"& \\phantom{0}\"+\"{}$\\\\pm${}\".format(str(round(mrr_v_d1_o10*100,2)),str(round(mrr_b_d1_o10*100,2))))\n",
    "print(r\"& \\phantom{0}\"+\"{}$\\\\pm${}\".format(str(round(ndcg_10_v_d1_o90*100,2)),str(round(ndcg_10_b_d1_o90*100,2))))\n",
    "print(r\"& \\phantom{0}\"+\"{}$\\\\pm${}\".format(str(round(hit_10_v_d1_o90*100,2)),str(round(hit_10_b_d1_o90*100,2))))\n",
    "print(r\"& \\phantom{0}\"+\"{}$\\\\pm${}\".format(str(round(mrr_v_d1_o90*100,2)),str(round(mrr_b_d1_o90*100,2))))\n",
    "print(r\"& \\phantom{0}\"+\"{}$\\\\pm${}\".format(str(round(ndcg_10_v_d2_o10*100,2)),str(round(ndcg_10_b_d2_o10*100,2))))\n",
    "print(r\"& \\phantom{0}\"+\"{}$\\\\pm${}\".format(str(round(hit_10_v_d2_o10*100,2)),str(round(hit_10_b_d2_o10*100,2))))\n",
    "print(r\"& \\phantom{0}\"+\"{}$\\\\pm${}\".format(str(round(mrr_v_d2_o10*100,2)),str(round(mrr_b_d2_o10*100,2))))\n",
    "print(r\"& \\phantom{0}\"+\"{}$\\\\pm${}\".format(str(round(ndcg_10_v_d2_o90*100,2)),str(round(ndcg_10_b_d2_o90*100,2))))\n",
    "print(r\"& \\phantom{0}\"+\"{}$\\\\pm${}\".format(str(round(hit_10_v_d2_o90*100,2)),str(round(hit_10_b_d2_o90*100,2))))\n",
    "print(r\"& \\phantom{0}\"+\"{}$\\\\pm${}\".format(str(round(mrr_v_d2_o90*100,2)),str(round(mrr_b_d2_o90*100,2))))"
   ]
  }
 ],
 "metadata": {
  "language_info": {
   "name": "python"
  }
 },
 "nbformat": 4,
 "nbformat_minor": 5
}
